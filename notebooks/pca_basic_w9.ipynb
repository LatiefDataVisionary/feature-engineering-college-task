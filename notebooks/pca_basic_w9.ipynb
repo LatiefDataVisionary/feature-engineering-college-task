{
  "nbformat": 4,
  "nbformat_minor": 0,
  "metadata": {
    "colab": {
      "provenance": [],
      "authorship_tag": "ABX9TyMyPcqNLVMropZX3PjOUg6W",
      "include_colab_link": true
    },
    "kernelspec": {
      "name": "python3",
      "display_name": "Python 3"
    },
    "language_info": {
      "name": "python"
    }
  },
  "cells": [
    {
      "cell_type": "markdown",
      "metadata": {
        "id": "view-in-github",
        "colab_type": "text"
      },
      "source": [
        "<a href=\"https://colab.research.google.com/github/LatiefDataVisionary/feature-engineering-college-task/blob/main/pca_basic_w9.ipynb\" target=\"_parent\"><img src=\"https://colab.research.google.com/assets/colab-badge.svg\" alt=\"Open In Colab\"/></a>"
      ]
    },
    {
      "cell_type": "code",
      "execution_count": 1,
      "metadata": {
        "id": "SBC3N3YeW3I6"
      },
      "outputs": [],
      "source": [
        "import numpy as np\n",
        "from sklearn.decomposition import PCA"
      ]
    },
    {
      "cell_type": "code",
      "source": [
        "# Data\n",
        "x =np.array([[2, 8, 4],\n",
        "             [3, 7, 5],\n",
        "             [1, 9, 6],\n",
        "             [4, 5, 8]])"
      ],
      "metadata": {
        "id": "n7ZD9QhRXDl-"
      },
      "execution_count": 2,
      "outputs": []
    },
    {
      "cell_type": "code",
      "source": [
        "# PCA dengan 2 componen utama\n",
        "pca = PCA(n_components=2)\n",
        "x_reduced = pca.fit_transform(x)\n",
        "print(\"Data setelah PCA:\")\n",
        "x_reduced"
      ],
      "metadata": {
        "colab": {
          "base_uri": "https://localhost:8080/"
        },
        "id": "_WMFOnBDX3sp",
        "outputId": "1ebcd77b-e173-4de2-fe4b-e2b184ef277f"
      },
      "execution_count": 3,
      "outputs": [
        {
          "output_type": "stream",
          "name": "stdout",
          "text": [
            "Data setelah PCA:\n"
          ]
        },
        {
          "output_type": "execute_result",
          "data": {
            "text/plain": [
              "array([[ 1.74193806, -0.91063612],\n",
              "       [ 0.02578584, -0.92641237],\n",
              "       [ 1.73689327,  1.53549474],\n",
              "       [-3.50461717,  0.30155375]])"
            ]
          },
          "metadata": {},
          "execution_count": 3
        }
      ]
    },
    {
      "cell_type": "code",
      "source": [],
      "metadata": {
        "id": "S75kBjQcX3o8"
      },
      "execution_count": null,
      "outputs": []
    },
    {
      "cell_type": "markdown",
      "source": [],
      "metadata": {
        "id": "LrqUqh0bXbyD"
      }
    }
  ]
}
